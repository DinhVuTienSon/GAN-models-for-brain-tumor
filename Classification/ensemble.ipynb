{
 "cells": [
  {
   "cell_type": "code",
   "execution_count": null,
   "metadata": {},
   "outputs": [],
   "source": [
    "import numpy as np \n",
    "import matplotlib.pyplot as plt \n",
    "from tqdm import tqdm\n",
    "import cv2\n",
    "import os\n",
    "import seaborn as sns\n",
    "import tensorflow as tf\n",
    "\n",
    "gpus = tf.config.experimental.list_physical_devices('GPU')\n",
    "for gpu in gpus:\n",
    "    tf.config.experimental.set_memory_growth(gpu, True) "
   ]
  },
  {
   "cell_type": "code",
   "execution_count": null,
   "metadata": {},
   "outputs": [],
   "source": [
    "# code to find weights for 3 models\n",
    "\n",
    "from keras.models import load_model\n",
    "from sklearn.metrics import accuracy_score\n",
    "import os\n",
    "import cv2\n",
    "import numpy as np\n",
    "import pandas as pd\n",
    "\n",
    "base_dir = 'C:/brain_tumor/version2/notebook/Testing'\n",
    "class_names = ['glioma', 'meningioma', 'pituitary']\n",
    "\n",
    "X = []\n",
    "y = []\n",
    "\n",
    "for label, class_name in enumerate(class_names):\n",
    "    class_dir = os.path.join(base_dir, class_name)\n",
    "    for img_name in os.listdir(class_dir):\n",
    "        img_path = os.path.join(class_dir, img_name)\n",
    "        img = cv2.imread(img_path)\n",
    "        img = cv2.resize(img, (128, 128))\n",
    "        X.append(img)\n",
    "        y.append(label)\n",
    "\n",
    "X = np.array(X)\n",
    "y = np.array(y)\n",
    "\n",
    "X = X.astype('float32') / 255.0\n",
    "\n",
    "model1 = load_model('cnn_case_3.h5')\n",
    "model2 = load_model('resnet_case_3.h5')\n",
    "model3 = load_model('inception_case_3.h5')\n",
    "\n",
    "models = [model1, model2, model3]\n",
    "preds1 = [model.predict(X) for model in models]\n",
    "preds1 = np.array(preds1)\n",
    "\n",
    "df = pd.DataFrame([])\n",
    "\n",
    "for w1 in range(0, 5):\n",
    "    for w2 in range(0, 5):\n",
    "        for w3 in range(0, 5):\n",
    "            wts = [w1/10., w2/10., w3/10.]\n",
    "            wted_preds1 = np.tensordot(preds1, wts, axes=((0), (0)))\n",
    "            wted_ensemble_pred = np.argmax(wted_preds1, axis=1)\n",
    "            weighted_accuracy = accuracy_score(y, wted_ensemble_pred)\n",
    "            df = pd.concat([df, pd.DataFrame({'wt1': [wts[0]], 'wt2': [wts[1]], \n",
    "                                              'wt3': [wts[2]], 'acc': [weighted_accuracy*100]})], ignore_index=True)\n",
    "\n",
    "max_acc_row = df.iloc[df['acc'].idxmax()]\n",
    "print(\"Max accuracy of \", max_acc_row['acc'], \" obtained with w1=\", max_acc_row['wt1'],\n",
    "      \" w2=\", max_acc_row['wt2'], \" and w3=\", max_acc_row['wt3'])\n"
   ]
  },
  {
   "cell_type": "code",
   "execution_count": null,
   "metadata": {},
   "outputs": [],
   "source": [
    "# view all combination of weights\n",
    "\n",
    "df_sorted = df.sort_values(by='acc', ascending=False)\n",
    "print(df_sorted)"
   ]
  },
  {
   "cell_type": "markdown",
   "metadata": {},
   "source": [
    "Ensemble model classify 1 img"
   ]
  },
  {
   "cell_type": "code",
   "execution_count": null,
   "metadata": {},
   "outputs": [],
   "source": [
    "from keras.models import load_model\n",
    "import numpy as np\n",
    "import cv2\n",
    "\n",
    "model1 = load_model('cnn_case_3.h5')\n",
    "model2 = load_model('resnet_case_3.h5')\n",
    "model3 = load_model('inception_case_3.h5')\n",
    "\n",
    "w1, w2, w3 = 0.2, 0.4, 0.3  \n",
    "\n",
    "new_image_path = 'C:/brain_tumor/version2/classify_dataset/meningioma/meni (8).jpg'\n",
    "img = cv2.imread(new_image_path)\n",
    "img = cv2.resize(img, (128, 128))\n",
    "img = np.array(img)\n",
    "img = img.astype('float32') / 255.0\n",
    "img = np.expand_dims(img, axis=0)\n",
    "\n",
    "pred1 = model1.predict(img)\n",
    "pred2 = model2.predict(img)\n",
    "pred3 = model3.predict(img)\n",
    "\n",
    "combined_pred = (w1 * pred1) + (w2 * pred2) + (w3 * pred3)\n",
    "\n",
    "final_class = np.argmax(combined_pred, axis=1)\n",
    "\n",
    "class_labels = ['glioma', 'meningioma', 'pituitary']\n",
    "\n",
    "predicted_label = class_labels[final_class[0]]\n",
    "print(f'The predicted tumor type is: {predicted_label}')\n"
   ]
  }
 ],
 "metadata": {
  "kernelspec": {
   "display_name": "Python 3",
   "language": "python",
   "name": "python3"
  },
  "language_info": {
   "name": "python",
   "version": "3.10.5"
  }
 },
 "nbformat": 4,
 "nbformat_minor": 2
}
